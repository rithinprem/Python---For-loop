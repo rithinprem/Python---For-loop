{
 "cells": [
  {
   "cell_type": "markdown",
   "id": "b809ed3e-1206-4f5d-abb7-0d60a1da1d87",
   "metadata": {},
   "source": [
    "# Basic Level:---------------------\n",
    "    \n",
    "    "
   ]
  },
  {
   "cell_type": "code",
   "execution_count": 4,
   "id": "10a4731b-b3f2-4e39-b750-56955181d868",
   "metadata": {},
   "outputs": [
    {
     "name": "stdout",
     "output_type": "stream",
     "text": [
      "Numbers from 1 to 10 are: 1 2 3 4 5 6 7 8 9 10 "
     ]
    }
   ],
   "source": [
    "#1. Write a Python program to print the numbers from 1 to 10 using a `for` loop.\n",
    "print(\"Numbers from 1 to 10 are:\",end= \" \")\n",
    "for i in range(1,11):\n",
    "    print(i,end=\" \")"
   ]
  },
  {
   "cell_type": "code",
   "execution_count": 51,
   "id": "61e6c1f1-a5c3-48ce-add3-50023a46b628",
   "metadata": {},
   "outputs": [
    {
     "name": "stdout",
     "output_type": "stream",
     "text": [
      "Sum of all elements in list is: 15\n"
     ]
    }
   ],
   "source": [
    "#2. Create a program that calculates the sum of all numbers in a list using a `for` loop.\n",
    "list1= [1,2,3,4,5]\n",
    "sum_=0\n",
    "for i in list1:\n",
    "    sum_ = sum_+i\n",
    "print(\"Sum of all elements in list is:\",sum_)    "
   ]
  },
  {
   "cell_type": "code",
   "execution_count": 7,
   "id": "4b5aad1e-e5e1-488a-9931-6330fe29a625",
   "metadata": {},
   "outputs": [
    {
     "name": "stdout",
     "output_type": "stream",
     "text": [
      "Reversed string is: olleH\n"
     ]
    }
   ],
   "source": [
    "#3. Write a program to print the characters of a string in reverse order using a `for` loop.\n",
    "string1 = \"Hello\"\n",
    "string2=\"\"\n",
    "for i in string1[::-1]:\n",
    "    string2=string2+i\n",
    "print(\"Reversed string is:\",string2)    \n",
    "    "
   ]
  },
  {
   "cell_type": "code",
   "execution_count": 18,
   "id": "414feb91-fafc-4afe-a8ad-92bb78de33b5",
   "metadata": {},
   "outputs": [
    {
     "name": "stdin",
     "output_type": "stream",
     "text": [
      "Enter a number to calculate factorial of the number: 4\n"
     ]
    },
    {
     "name": "stdout",
     "output_type": "stream",
     "text": [
      "Factorial of the number: 24\n"
     ]
    }
   ],
   "source": [
    "#4. Develop a program that finds the factorial of a given number using a `for` loop.\n",
    "j = 1\n",
    "num= int(input(\"Enter a number to calculate factorial of the number:\"))\n",
    "for i in range(num,1,-1):\n",
    "    j=j*i\n",
    "print(\"Factorial of the number:\",j)    "
   ]
  },
  {
   "cell_type": "code",
   "execution_count": 39,
   "id": "5e698026-af59-4723-b2d2-758914ed077e",
   "metadata": {},
   "outputs": [
    {
     "name": "stdin",
     "output_type": "stream",
     "text": [
      "Enter a number to print multiplication table of the number: 7\n"
     ]
    },
    {
     "name": "stdout",
     "output_type": "stream",
     "text": [
      "7 X 1  = 7 \n",
      "7 X 2  = 14\n",
      "7 X 3  = 21\n",
      "7 X 4  = 28\n",
      "7 X 5  = 35\n",
      "7 X 6  = 42\n",
      "7 X 7  = 49\n",
      "7 X 8  = 56\n",
      "7 X 9  = 63\n",
      "7 X 10 = 70\n"
     ]
    }
   ],
   "source": [
    "#5. Create a program to print the multiplication table of a given number using a `for` loop.\n",
    "num= int(input(\"Enter a number to print multiplication table of the number:\"))\n",
    "for i in range(1,11):\n",
    "    mul = num*i\n",
    "    print(f\"{num} X {i:<2} = {mul:<2}\")"
   ]
  },
  {
   "cell_type": "code",
   "execution_count": 41,
   "id": "7403ad77-b5a8-4a12-9019-0535d32cfa3b",
   "metadata": {},
   "outputs": [
    {
     "name": "stdout",
     "output_type": "stream",
     "text": [
      "Even count is 4 and Odd count is 5\n"
     ]
    }
   ],
   "source": [
    "#6. Write a program that counts the number of even and odd numbers in a list using a `for` loop.\n",
    "list2= [1,2,3,4,5,6,7,8,9]\n",
    "even_count = 0\n",
    "odd_count = 0\n",
    "for i in list2:\n",
    "    if i%2==0:\n",
    "        even_count+=1\n",
    "    else:\n",
    "        odd_count+=1\n",
    "print(f\"Even count is {even_count} and Odd count is {odd_count}\")        \n"
   ]
  },
  {
   "cell_type": "code",
   "execution_count": 42,
   "id": "c6e426cb-af4e-440f-b49a-f906ffc23a2d",
   "metadata": {},
   "outputs": [
    {
     "name": "stdout",
     "output_type": "stream",
     "text": [
      "The squares of numbers from 1 to 5 is:\n",
      "1 4 9 16 25 "
     ]
    }
   ],
   "source": [
    "#7. Develop a program that prints the squares of numbers from 1 to 5 using a `for` loop.\n",
    "n = 5\n",
    "print(\"The squares of numbers from 1 to 5 is:\")\n",
    "for i in range(1,n+1):\n",
    "    print(i**2, end=\" \")"
   ]
  },
  {
   "cell_type": "code",
   "execution_count": 43,
   "id": "cd47f459-c11e-46fc-8188-321896f144b8",
   "metadata": {},
   "outputs": [
    {
     "name": "stdout",
     "output_type": "stream",
     "text": [
      "Length of string is 7\n"
     ]
    }
   ],
   "source": [
    "#8. Create a program to find the length of a string without using the `len()` function.\n",
    "string8 = \"hellopw\"\n",
    "count=0\n",
    "for i in string8:\n",
    "    count+=1\n",
    "print(\"Length of string is\",count)    \n",
    "    \n"
   ]
  },
  {
   "cell_type": "code",
   "execution_count": 54,
   "id": "8b58d10d-24d8-4c5d-89d1-6bf8260b3d33",
   "metadata": {},
   "outputs": [
    {
     "name": "stdout",
     "output_type": "stream",
     "text": [
      "Average of all elements in list is: 3.5\n"
     ]
    }
   ],
   "source": [
    "#9. Write a program that calculates the average of a list of numbers using a `for` loop.\n",
    "list9= [1,2,3,4,5,6]\n",
    "sum_=0\n",
    "for i in list9:\n",
    "    sum_= sum_+i\n",
    "print(\"Average of all elements in list is:\",sum_/len(list9))    "
   ]
  },
  {
   "cell_type": "code",
   "execution_count": 62,
   "id": "344a12a3-99ae-4865-bd2c-4eea13ca8469",
   "metadata": {},
   "outputs": [
    {
     "name": "stdout",
     "output_type": "stream",
     "text": [
      "The first `n` Fibonacci numbers: 0 1 1 2 3 5 8 13 "
     ]
    }
   ],
   "source": [
    "#10. Develop a program that prints the first `n` Fibonacci numbers using a `for` loop.\n",
    "n= 8\n",
    "a = 0\n",
    "b = 1\n",
    "print(\"The first `n` Fibonacci numbers:\",end=\" \")\n",
    "for i in range(1,n+1):\n",
    "    print(a,end= \" \")\n",
    "    a,b=b,a+b    "
   ]
  },
  {
   "cell_type": "markdown",
   "id": "c168e97d-4b13-4ddc-9d51-640c8a709859",
   "metadata": {},
   "source": [
    "# Intermediate Level:----------------\n",
    "\n"
   ]
  },
  {
   "cell_type": "code",
   "execution_count": 127,
   "id": "c57183b4-91e5-4891-b403-2b8f6050724a",
   "metadata": {},
   "outputs": [
    {
     "name": "stdout",
     "output_type": "stream",
     "text": [
      "List contains duplicates\n"
     ]
    }
   ],
   "source": [
    "#11. Write a program to check if a given list contains any duplicates using a `for` loop.\n",
    "\n",
    "List11 =[1,2,3,4,4]\n",
    "dic= {}\n",
    "for i in List11:\n",
    "    if i in dic:\n",
    "        dic[i]+=1\n",
    "    else:\n",
    "        dic[i]=1\n",
    "try :\n",
    "    if max(list(dic.values()))>=2: # checks whether value of any key in dic is more than or equal to 2\n",
    "        print(\"List contains duplicates\")\n",
    "    else:\n",
    "        print(\"List doesn't contains any duplicates\")\n",
    "except:\n",
    "    print(\"List is empty\")\n"
   ]
  },
  {
   "cell_type": "code",
   "execution_count": 96,
   "id": "aa896612-8196-4a30-ad74-65e3984596d2",
   "metadata": {},
   "outputs": [
    {
     "name": "stdin",
     "output_type": "stream",
     "text": [
      "Enter range(Start number and Last number) seperated by space: 1 10\n"
     ]
    },
    {
     "name": "stdout",
     "output_type": "stream",
     "text": [
      "Prime numbers in a given range(1-10):\n",
      "2 3 5 7 "
     ]
    }
   ],
   "source": [
    "#12. Create a program that prints the prime numbers in a given range using a `for` loop.\n",
    "\n",
    "def prime(num):\n",
    "    if num<=1:\n",
    "        return False \n",
    "    for i in range(2,int(num**0.5)+1):\n",
    "            if num%i==0:\n",
    "                return False\n",
    "    return True\n",
    "\n",
    "try:\n",
    "    n= input(\"Enter range(Start number and Last number) seperated by space:\").split()\n",
    "    s,l = int(n[0]),int(n[1])\n",
    "    print(f\"Prime numbers in a given range({s}-{l}):\")\n",
    "    for num in range(s,l+1):\n",
    "        if prime(num):\n",
    "            print(num,end=\" \")\n",
    "except:\n",
    "    print(\"Error in input\")"
   ]
  },
  {
   "cell_type": "code",
   "execution_count": 102,
   "id": "b154bd61-3dfa-413e-8ff9-8bdeef0a4ce5",
   "metadata": {},
   "outputs": [
    {
     "name": "stdout",
     "output_type": "stream",
     "text": [
      "The number of vowels in the hello world is: 3\n"
     ]
    }
   ],
   "source": [
    "#13. Develop a program that counts the number of vowels in a string using a `for` loop.\n",
    "\n",
    "string13= \"Hello World\"\n",
    "string13 = string13.lower()\n",
    "count=0\n",
    "vowels=[\"a\",\"e\",\"i\",\"o\",\"u\"]\n",
    "for i in string13:\n",
    "    if i in vowels:\n",
    "        count+=1\n",
    "print(f\"The number of vowels in the {string13} is:\", count)\n"
   ]
  },
  {
   "cell_type": "code",
   "execution_count": 117,
   "id": "a91c4d2a-360a-4f97-9d14-5e24c0f91ebe",
   "metadata": {},
   "outputs": [
    {
     "name": "stdout",
     "output_type": "stream",
     "text": [
      "Maximum element is : 100\n"
     ]
    }
   ],
   "source": [
    "#14. Write a program to find the maximum element in a 2D list using a nested `for` loop.\n",
    "matrix = [\n",
    "    [100, 2, 30],\n",
    "    [4, 5, 6],\n",
    "    [70, 8, 9]\n",
    "]\n",
    "\n",
    "max_= matrix[0][0]\n",
    "for i in matrix:\n",
    "    for j in i:\n",
    "        if j>max_:\n",
    "            max_=j\n",
    "\n",
    "print(\"Maximum element is :\",max_)"
   ]
  },
  {
   "cell_type": "code",
   "execution_count": 239,
   "id": "4e2a023d-0382-4a84-9d4a-1d281dca885e",
   "metadata": {},
   "outputs": [
    {
     "name": "stdout",
     "output_type": "stream",
     "text": [
      "[3, 1, 2, 4, 5, 6]\n"
     ]
    }
   ],
   "source": [
    "#15. Create a program that removes all occurrences of a specific element from a list using a `for` loop.\n",
    "\n",
    "list_original = [1,2,3,4,1,2,2,2,4,5,6]\n",
    "list_copy = list(list_original)# to copy only values from list_original\n",
    "dic15={}\n",
    "for i in list_original:\n",
    "    if i in dic15:\n",
    "        dic15[i]+=1\n",
    "        list_copy.remove(i)\n",
    "    else:\n",
    "        dic15[i]=1\n",
    "print(list_copy)"
   ]
  },
  {
   "cell_type": "code",
   "execution_count": 242,
   "id": "78c9c54e-d858-43f1-a8ca-937c9abcbec2",
   "metadata": {},
   "outputs": [
    {
     "name": "stdout",
     "output_type": "stream",
     "text": [
      "Multiplication table of 1 is:\n",
      "1  X 1  =  1\n",
      "1  X 2  =  2\n",
      "1  X 3  =  3\n",
      "1  X 4  =  4\n",
      "1  X 5  =  5\n",
      "1  X 6  =  6\n",
      "1  X 7  =  7\n",
      "1  X 8  =  8\n",
      "1  X 9  =  9\n",
      "1  X 10 =  10\n",
      "Multiplication table of 2 is:\n",
      "2  X 1  =  2\n",
      "2  X 2  =  4\n",
      "2  X 3  =  6\n",
      "2  X 4  =  8\n",
      "2  X 5  =  10\n",
      "2  X 6  =  12\n",
      "2  X 7  =  14\n",
      "2  X 8  =  16\n",
      "2  X 9  =  18\n",
      "2  X 10 =  20\n",
      "Multiplication table of 3 is:\n",
      "3  X 1  =  3\n",
      "3  X 2  =  6\n",
      "3  X 3  =  9\n",
      "3  X 4  =  12\n",
      "3  X 5  =  15\n",
      "3  X 6  =  18\n",
      "3  X 7  =  21\n",
      "3  X 8  =  24\n",
      "3  X 9  =  27\n",
      "3  X 10 =  30\n",
      "Multiplication table of 4 is:\n",
      "4  X 1  =  4\n",
      "4  X 2  =  8\n",
      "4  X 3  =  12\n",
      "4  X 4  =  16\n",
      "4  X 5  =  20\n",
      "4  X 6  =  24\n",
      "4  X 7  =  28\n",
      "4  X 8  =  32\n",
      "4  X 9  =  36\n",
      "4  X 10 =  40\n",
      "Multiplication table of 5 is:\n",
      "5  X 1  =  5\n",
      "5  X 2  =  10\n",
      "5  X 3  =  15\n",
      "5  X 4  =  20\n",
      "5  X 5  =  25\n",
      "5  X 6  =  30\n",
      "5  X 7  =  35\n",
      "5  X 8  =  40\n",
      "5  X 9  =  45\n",
      "5  X 10 =  50\n"
     ]
    }
   ],
   "source": [
    "#16. Develop a program that generates a multiplication table for numbers from 1 to 5 using a nested `for` loop.\n",
    "\n",
    "for i in range(1,6):\n",
    "    print(f\"Multiplication table of {i} is:\")\n",
    "    for j in range(1,11):\n",
    "        print(f\"{i:<2} X {j:<2} = \",i*j)"
   ]
  },
  {
   "cell_type": "code",
   "execution_count": 256,
   "id": "6b720e0e-815d-4ae8-91f5-d0e4c98465a6",
   "metadata": {},
   "outputs": [
    {
     "name": "stdout",
     "output_type": "stream",
     "text": [
      "In celcius: [37.78, 38.89, 25.0, 22.22, 26.67, 41.11, 42.22]\n"
     ]
    }
   ],
   "source": [
    "#17. Write a program that converts a list of Fahrenheit temperatures to Celsius using a `for` loop.\n",
    "\n",
    "list_F = [100,102,77,72,80,106,108]\n",
    "list_C = []\n",
    "for f in list_F:\n",
    "    c= round((5/9)*(f-32),2)    # with rounding off upto 2 decimal points\n",
    "    list_C.append(c)\n",
    "print(\"In celcius:\",list_C)    "
   ]
  },
  {
   "cell_type": "code",
   "execution_count": 257,
   "id": "b92e690c-b710-44f9-bc33-0ea1608be505",
   "metadata": {},
   "outputs": [
    {
     "name": "stdout",
     "output_type": "stream",
     "text": [
      "Common elements from two list are: [2, 3, 4]\n"
     ]
    }
   ],
   "source": [
    "#18. Create a program to print the common elements from two lists using a `for` loop.\n",
    "\n",
    "list19 = [1,2,3,4,5,6]\n",
    "list20 = [2,3,4,0,9,8]\n",
    "list_com = []\n",
    "for i in list19:\n",
    "    if i in list20:\n",
    "        list_com.append(i)\n",
    "print(\"Common elements from two list are:\",list_com)        "
   ]
  },
  {
   "cell_type": "code",
   "execution_count": 274,
   "id": "4b4f41a4-2982-4429-bf4c-bae40e3bbcac",
   "metadata": {},
   "outputs": [
    {
     "name": "stdout",
     "output_type": "stream",
     "text": [
      "* \n",
      "* * \n",
      "* * * \n",
      "* * * * \n",
      "* * * * * \n"
     ]
    }
   ],
   "source": [
    "#19. Develop a program that prints the pattern of right-angled triangles using a `for` loop. Use ‘*’ to draw the pattern\n",
    "n =5\n",
    "for i in range(1,n+1):\n",
    "    print(\"* \"*i)"
   ]
  },
  {
   "cell_type": "code",
   "execution_count": 286,
   "id": "e4d07644-4c32-4da5-89d9-68bad87d6510",
   "metadata": {},
   "outputs": [
    {
     "name": "stdin",
     "output_type": "stream",
     "text": [
      "Enter two numbers to find GCD seperated by space: 5 100\n"
     ]
    },
    {
     "name": "stdout",
     "output_type": "stream",
     "text": [
      "GCD is: 5\n"
     ]
    }
   ],
   "source": [
    "#20. Write a program to find the greatest common divisor (GCD) of two numbers using a `for` loop.\n",
    "num= input(\"Enter two numbers to find GCD seperated by space:\").split()\n",
    "a,b =int(num[0]),int(num[1])\n",
    "GCD =1\n",
    "for i in range(1,min(a,b)+1):\n",
    "    if a%i==0 and b%i==0:\n",
    "        if i>GCD:\n",
    "            GCD=i\n",
    "print(\"GCD is:\",GCD)       \n",
    "    "
   ]
  },
  {
   "cell_type": "markdown",
   "id": "5faa658c-5982-4e7a-9d81-c43ed89fc028",
   "metadata": {},
   "source": [
    "#  Advanced Level:---------\n",
    "\n"
   ]
  },
  {
   "cell_type": "code",
   "execution_count": 301,
   "id": "6b6bba24-01dc-450a-be6c-c5fefee5a8f8",
   "metadata": {},
   "outputs": [
    {
     "name": "stdout",
     "output_type": "stream",
     "text": [
      "[6, 2, 7, 4, 5]\n"
     ]
    }
   ],
   "source": [
    "#21. Create a program that calculates the sum of the digits of numbers in a list using a list comprehension.\n",
    "\n",
    "list21 = [123,20,322,4,5]\n",
    "a = [sum([int(i) for i in str(num)]) for num in list21]\n",
    "print(a)"
   ]
  },
  {
   "cell_type": "code",
   "execution_count": 206,
   "id": "3e723740-085f-4470-8de9-7c8abac6b93c",
   "metadata": {},
   "outputs": [
    {
     "name": "stdout",
     "output_type": "stream",
     "text": [
      "[5, 7]\n"
     ]
    }
   ],
   "source": [
    "#22. Write a program to find the prime factors of a given number using a `for` loop and list comprehension.\n",
    "\n",
    "def prime(num):\n",
    "    if num<=1:\n",
    "        return False\n",
    "    else:\n",
    "        for i in range(2,int(num*0.5)+1):\n",
    "            if num%i==0:\n",
    "                return False\n",
    "    return True  \n",
    "\n",
    "\n",
    "given_num = 175\n",
    "list_prime_fac = [i for i in range(2,given_num+1) if prime(i) if given_num%i==0]\n",
    "print(list_prime_fac)"
   ]
  },
  {
   "cell_type": "code",
   "execution_count": 111,
   "id": "1d797edc-58d3-40c8-aaf4-129a3e69fd39",
   "metadata": {},
   "outputs": [
    {
     "name": "stdout",
     "output_type": "stream",
     "text": [
      "[1, 2, 3, 4, 5, 7]\n"
     ]
    }
   ],
   "source": [
    "#23. Develop a program that extracts unique elements from a list and stores them in a new list using a list comprehension.\n",
    "list23 = [1,2,3,4,2,2,1,4,5,7,7]\n",
    "list24=[]\n",
    "[list24.append(i)  for i in list23  if i not in list24]\n",
    "print(list24)"
   ]
  },
  {
   "cell_type": "code",
   "execution_count": 110,
   "id": "e59180c3-2d81-4f77-8fda-20a1b712bcab",
   "metadata": {},
   "outputs": [
    {
     "name": "stdout",
     "output_type": "stream",
     "text": [
      "[0, 1, 2, 3, 4, 5, 6, 7, 8, 9, 11, 22, 33, 44, 55, 66, 77, 88, 99, 101, 111, 121, 131, 141, 151, 161, 171, 181, 191]\n"
     ]
    }
   ],
   "source": [
    "#24. Create a program that generates a list of all palindromic numbers up to a specified limit using a list comprehension.\n",
    "n=200\n",
    "list24 = [i for i in range(n) if str(i)==str(i)[::-1]]\n",
    "print(list24)\n"
   ]
  },
  {
   "cell_type": "code",
   "execution_count": 109,
   "id": "5943e39a-5e4b-4d76-8a34-0f4fd7e8e0e4",
   "metadata": {},
   "outputs": [
    {
     "name": "stdout",
     "output_type": "stream",
     "text": [
      "[1, 2, 3, 1, 2, 3, 1, 2]\n"
     ]
    }
   ],
   "source": [
    "#25. Write a program to flatten a nested list using list comprehension.\n",
    "\n",
    "list25= [1,2,3,[1,2,3,[1,2]]]\n",
    "def flatten_list(l):\n",
    "    return[item for sublist in l for item in (flatten_list(sublist) if isinstance(sublist,list) else[sublist])]\n",
    "print(flatten_list(list25))\n"
   ]
  },
  {
   "cell_type": "code",
   "execution_count": 117,
   "id": "3d0babfc-b8da-42ab-9b28-f71d8f11e3e5",
   "metadata": {},
   "outputs": [
    {
     "name": "stdout",
     "output_type": "stream",
     "text": [
      "Sum of even numbers: 2 and Sum of odd numbers: 4\n"
     ]
    }
   ],
   "source": [
    "#26. Develop a program that computes the sum of even and odd numbers in a list separately using list comprehension.\n",
    "\n",
    "list26=[1,2,3]\n",
    "even_sum = sum([i for i in list26 if i%2==0])\n",
    "odd_sum = sum([i for i in list26 if i%2!=0])\n",
    "print(f\"Sum of even numbers: {even_sum} and Sum of odd numbers: {odd_sum}\")"
   ]
  },
  {
   "cell_type": "code",
   "execution_count": 119,
   "id": "856409e0-0013-4a7f-a84f-c55ef70a2b50",
   "metadata": {},
   "outputs": [
    {
     "name": "stdout",
     "output_type": "stream",
     "text": [
      "[1, 9, 25, 49, 81]\n"
     ]
    }
   ],
   "source": [
    "#27. Create a program that generates a list of squares of odd numbers between 1 and 10 using list comprehension.\n",
    "\n",
    "list_sq_odd = [i**2 for i in range(1,11) if i%2!=0]\n",
    "print(list_sq_odd)"
   ]
  },
  {
   "cell_type": "code",
   "execution_count": 155,
   "id": "652478f3-d6e1-4e42-a6c1-5e4ec010fe54",
   "metadata": {},
   "outputs": [
    {
     "name": "stdout",
     "output_type": "stream",
     "text": [
      "{'name': 'Alice', 'age': 30, 'country': 'USA'}\n"
     ]
    }
   ],
   "source": [
    "#28. Write a program that combines two lists into a dictionary using list comprehension.\n",
    "keys = [\"name\", \"age\", \"country\"]\n",
    "values = [\"Alice\", 30, \"USA\"]\n",
    "dic={keys[i]:values[i] for i in range(len(keys))} \n",
    "print(dic)"
   ]
  },
  {
   "cell_type": "code",
   "execution_count": 182,
   "id": "92630c23-f2ab-4aef-a0a5-d3bd2a6190c3",
   "metadata": {},
   "outputs": [
    {
     "name": "stdout",
     "output_type": "stream",
     "text": [
      "['a', 'e', 'o', 'e']\n"
     ]
    }
   ],
   "source": [
    "#29. Develop a program that extracts the vowels from a string and stores them in a list using list comprehension.\n",
    "string = \"Awesome\"\n",
    "string=string.lower()\n",
    "list_vowels = [i for i in string if i in['a','e','i','o','u']]\n",
    "print(list_vowels)"
   ]
  },
  {
   "cell_type": "code",
   "execution_count": 183,
   "id": "83a49ad0-867e-4473-8d7f-b42aefef3bed",
   "metadata": {},
   "outputs": [
    {
     "name": "stdout",
     "output_type": "stream",
     "text": [
      "['1', '123', '44']\n"
     ]
    }
   ],
   "source": [
    "#30. Create a program that removes all non-numeric characters from a list of strings using list comprehension.\n",
    "list_strings=[\"Hi\",'1','Hello','123','44']\n",
    "list_numeric=[i for i in list_strings if i.isnumeric()==True]\n",
    "print(list_numeric)\n"
   ]
  },
  {
   "cell_type": "markdown",
   "id": "a53f25b3-07bd-4a5f-8f17-3f201b19e32e",
   "metadata": {},
   "source": [
    "# Challenge Level:------------"
   ]
  },
  {
   "cell_type": "code",
   "execution_count": 107,
   "id": "09aaca97-a319-45c8-8112-0c91e8f34586",
   "metadata": {},
   "outputs": [
    {
     "name": "stdout",
     "output_type": "stream",
     "text": [
      "[2, 3, 5, 7]\n"
     ]
    }
   ],
   "source": [
    "#31. Write a program to generate a list of prime numbers using the Sieve of Eratosthenes algorithm and list comprehension.\n",
    "\n",
    "\n",
    "def Sieve_of_Eratosthenes(limit):\n",
    "    l = [True] * limit\n",
    "    l[0] = False\n",
    "    for i in range(2, int(limit**0.5) + 1):\n",
    "        if l[i - 1]:\n",
    "            for j in range(i*i, limit + 1, i):\n",
    "                l[j - 1] = False\n",
    "    return l\n",
    "\n",
    "\n",
    "limit = 10\n",
    "sieve_result = Sieve_of_Eratosthenes(limit)\n",
    "list_prime = [i for i in range(1, limit + 1) if sieve_result[i - 1]]\n",
    "print(list_prime)"
   ]
  },
  {
   "cell_type": "code",
   "execution_count": 246,
   "id": "c0e540f7-0914-45f5-a9f6-764a3f4c01b6",
   "metadata": {},
   "outputs": [
    {
     "name": "stdout",
     "output_type": "stream",
     "text": [
      "[(3, 4, 5), (5, 12, 13), (6, 8, 10), (7, 24, 25), (8, 15, 17), (9, 12, 15), (9, 40, 41), (10, 24, 26), (12, 16, 20), (12, 35, 37), (14, 48, 50), (15, 20, 25), (15, 36, 39), (16, 30, 34), (18, 24, 30), (20, 21, 29), (20, 48, 52), (21, 28, 35), (24, 32, 40), (24, 45, 51), (27, 36, 45), (28, 45, 53), (30, 40, 50), (33, 44, 55), (36, 48, 60), (40, 42, 58)]\n"
     ]
    }
   ],
   "source": [
    "#32. Create a program that generates a list of all Pythagorean triplets up to a specified limit using list comprehension.\n",
    "\n",
    "def triplet_check(x,y):\n",
    "    z_squared = x**2 + y**2\n",
    "    z = int(z_squared**0.5)\n",
    "    if z**2 == z_squared:\n",
    "        return True\n",
    "    else:\n",
    "        return False\n",
    "    \n",
    "limit = 50    \n",
    "list32=[(x,y,int((x**2+y**2)**0.5)) for x in range(1,limit) for y in range(x+1,limit) if triplet_check(x,y) ]\n",
    "print(list32)"
   ]
  },
  {
   "cell_type": "code",
   "execution_count": 52,
   "id": "1d84dc7c-d4f1-48d7-94ef-771a7f5987c4",
   "metadata": {},
   "outputs": [
    {
     "data": {
      "text/plain": [
       "[(1, 'A'), (1, 'B'), (2, 'A'), (2, 'B'), (3, 'A'), (3, 'B')]"
      ]
     },
     "execution_count": 52,
     "metadata": {},
     "output_type": "execute_result"
    }
   ],
   "source": [
    "#33. Develop a program that generates a list of all possible combinations of two lists using list comprehension.\n",
    "\n",
    "ListA =[1, 2, 3]\n",
    "ListB =['A', 'B']\n",
    "list_combination = [(i,j) for i in ListA for j in ListB ]\n",
    "list_combination"
   ]
  },
  {
   "cell_type": "code",
   "execution_count": 50,
   "id": "58df95ee-2e0f-4492-b456-275928bca16a",
   "metadata": {},
   "outputs": [
    {
     "name": "stdout",
     "output_type": "stream",
     "text": [
      "Mean: 3.5\n",
      "Median: 4.0\n",
      "Mode: 4\n"
     ]
    }
   ],
   "source": [
    "#34. Write a program that calculates the mean, median, and mode of a list of numbers using list comprehension.\n",
    "\n",
    "# Mean calculation\n",
    "list_numbers = [1,2,3,4,4,5,4,5]  \n",
    "list_numbers.sort()\n",
    "mean = round(sum(list_numbers)/len(list_numbers),2)\n",
    "print(\"Mean:\",mean)\n",
    "\n",
    "#Median Calculation\n",
    "n= len(list_numbers)\n",
    "if n%2==0:\n",
    "    median = (list_numbers[n//2-1]+list_numbers[n//2])/2\n",
    "else:\n",
    "    median = list_numbers[(n-1)//2]\n",
    "print(\"Median:\",median)\n",
    "   \n",
    "#Mode Calculation\n",
    "dic = {i:list_numbers.count(i) for i in list_numbers}\n",
    "mode = max(dic,key=dic.get)\n",
    "print(\"Mode:\",mode)"
   ]
  },
  {
   "cell_type": "code",
   "execution_count": 109,
   "id": "92c83788-783a-426f-821d-0ac4df8d6cd3",
   "metadata": {},
   "outputs": [
    {
     "data": {
      "text/plain": [
       "[[1],\n",
       " [1, 1],\n",
       " [1, 2, 1],\n",
       " [1, 3, 3, 1],\n",
       " [1, 4, 6, 4, 1],\n",
       " [1, 5, 10, 10, 5, 1],\n",
       " [1, 6, 15, 20, 15, 6, 1],\n",
       " [1, 7, 21, 35, 35, 21, 7, 1],\n",
       " [1, 8, 28, 56, 70, 56, 28, 8, 1],\n",
       " [1, 9, 36, 84, 126, 126, 84, 36, 9, 1]]"
      ]
     },
     "execution_count": 109,
     "metadata": {},
     "output_type": "execute_result"
    }
   ],
   "source": [
    "#35. Create a program that generates Pascal's triangle up to a specified number of rows using list comprehension.\n",
    "def pascal(l1):\n",
    "    global l\n",
    "    if not l1:\n",
    "        l=[1]\n",
    "        return l\n",
    "    l2=[]\n",
    "    l2.append(1)\n",
    "    for i in range(len(l1)-1):\n",
    "        l2.insert(i+1,l1[i]+l1[i+1])\n",
    "    l2.append(1)\n",
    "    l=l2\n",
    "    return l2\n",
    "\n",
    "no_of_rows = 10\n",
    "l=[]\n",
    "pascal_list = [pascal(l) for i in range(1,no_of_rows+1)]\n",
    "pascal_list\n",
    "\n",
    "      "
   ]
  },
  {
   "cell_type": "code",
   "execution_count": 31,
   "id": "948d1683-d130-4467-8ebc-25bb49921ce7",
   "metadata": {},
   "outputs": [
    {
     "name": "stdout",
     "output_type": "stream",
     "text": [
      "[1, 2, 6, 6, 3]\n"
     ]
    }
   ],
   "source": [
    "#36. Develop a program that calculates the sum of the digits of a factorial of numbers from 1 to 5 using list comprehension.\n",
    "\n",
    "def fac(num):\n",
    "    if num==0:\n",
    "        return 1\n",
    "    else:\n",
    "        return num*fac(num-1)\n",
    "    \n",
    "list_sum_fac = [sum([int(i) for i in str(fac(i))]) for i in range(1,6)]\n",
    "print(list_sum_fac)"
   ]
  },
  {
   "cell_type": "code",
   "execution_count": 248,
   "id": "c0c79298-c04d-4ddb-829d-659a62833296",
   "metadata": {},
   "outputs": [
    {
     "name": "stdout",
     "output_type": "stream",
     "text": [
      "Longest word is:  programming\n"
     ]
    }
   ],
   "source": [
    "#37. Write a program that finds the longest word in a sentence using list comprehension.\n",
    "\n",
    "sentence = \"Hello world , this is my first programming class\"\n",
    "longest_word = max([word for word in sentence.split()],key=len)\n",
    "print(\"Longest word is: \",longest_word)"
   ]
  },
  {
   "cell_type": "code",
   "execution_count": 20,
   "id": "bc1cd554-e26f-4503-b8a5-72564232719e",
   "metadata": {},
   "outputs": [
    {
     "name": "stdout",
     "output_type": "stream",
     "text": [
      "List of strings to include only those with more than three vowels is:\n",
      " ['Elemental', 'education', 'America']\n"
     ]
    }
   ],
   "source": [
    "#38. Create a program that filters a list of strings to include only those with more than three vowels using list comprehension.\n",
    "\n",
    "vowels=[\"a\",\"e\",\"i\",\"o\",\"u\",\"A\",\"E\",\"I\",\"O\",\"U\"]\n",
    "list_strings = [\"Elemental\",\"Hi\",\"education\",\"Rome\",\"America\",\"Hope\",\"Cents\",\"Apple\"]\n",
    "list_new = [word for word in list_strings if len([i for i in word if i in vowels])>3]\n",
    "print(\"List of strings to include only those with more than three vowels is:\\n\",list_new)"
   ]
  },
  {
   "cell_type": "code",
   "execution_count": 16,
   "id": "cb298878-7d00-409d-beb8-6f69d8cdf150",
   "metadata": {},
   "outputs": [
    {
     "name": "stdout",
     "output_type": "stream",
     "text": [
      "[1, 2, 3, 4, 5, 6, 7, 8, 9, 1, 2, 3, 4, 5, 6, 7, 8, 9, 10, 2, 3, 4, 5, 6, 7, 8, 9, 10, 11, 3, 4, 5, 6, 7, 8, 9, 10, 11, 12, 4, 5, 6, 7, 8, 9, 10, 11, 12, 13, 5, 6, 7, 8, 9, 10, 11, 12, 13, 14, 6, 7, 8, 9, 10, 11, 12, 13, 14, 15, 7, 8, 9, 10, 11, 12, 13, 14, 15, 16, 8, 9, 10, 11, 12, 13, 14, 15, 16, 17, 9, 10, 11, 12, 13, 14, 15, 16, 17, 18, 1, 2, 3, 4, 5, 6, 7, 8, 9, 10, 2, 3, 4, 5, 6, 7, 8, 9, 10, 11, 3, 4, 5, 6, 7, 8, 9, 10, 11, 12, 4, 5, 6, 7, 8, 9, 10, 11, 12, 13, 5, 6, 7, 8, 9, 10, 11, 12, 13, 14, 6, 7, 8, 9, 10, 11, 12, 13, 14, 15, 7, 8, 9, 10, 11, 12, 13, 14, 15, 16, 8, 9, 10, 11, 12, 13, 14, 15, 16, 17, 9, 10, 11, 12, 13, 14, 15, 16, 17, 18, 10, 11, 12, 13, 14, 15, 16, 17, 18, 19, 2, 3, 4, 5, 6, 7, 8, 9, 10, 11, 3, 4, 5, 6, 7, 8, 9, 10, 11, 12, 4, 5, 6, 7, 8, 9, 10, 11, 12, 13, 5, 6, 7, 8, 9, 10, 11, 12, 13, 14, 6, 7, 8, 9, 10, 11, 12, 13, 14, 15, 7, 8, 9, 10, 11, 12, 13, 14, 15, 16, 8, 9, 10, 11, 12, 13, 14, 15, 16, 17, 9, 10, 11, 12, 13, 14, 15, 16, 17, 18, 10, 11, 12, 13, 14, 15, 16, 17, 18, 19, 11, 12, 13, 14, 15, 16, 17, 18, 19, 20, 3, 4, 5, 6, 7, 8, 9, 10, 11, 12, 4, 5, 6, 7, 8, 9, 10, 11, 12, 13, 5, 6, 7, 8, 9, 10, 11, 12, 13, 14, 6, 7, 8, 9, 10, 11, 12, 13, 14, 15, 7, 8, 9, 10, 11, 12, 13, 14, 15, 16, 8, 9, 10, 11, 12, 13, 14, 15, 16, 17, 9, 10, 11, 12, 13, 14, 15, 16, 17, 18, 10, 11, 12, 13, 14, 15, 16, 17, 18, 19, 11, 12, 13, 14, 15, 16, 17, 18, 19, 20, 12, 13, 14, 15, 16, 17, 18, 19, 20, 21, 4, 5, 6, 7, 8, 9, 10, 11, 12, 13, 5, 6, 7, 8, 9, 10, 11, 12, 13, 14, 6, 7, 8, 9, 10, 11, 12, 13, 14, 15, 7, 8, 9, 10, 11, 12, 13, 14, 15, 16, 8, 9, 10, 11, 12, 13, 14, 15, 16, 17, 9, 10, 11, 12, 13, 14, 15, 16, 17, 18, 10, 11, 12, 13, 14, 15, 16, 17, 18, 19, 11, 12, 13, 14, 15, 16, 17, 18, 19, 20, 12, 13, 14, 15, 16, 17, 18, 19, 20, 21, 13, 14, 15, 16, 17, 18, 19, 20, 21, 22, 5, 6, 7, 8, 9, 10, 11, 12, 13, 14, 6, 7, 8, 9, 10, 11, 12, 13, 14, 15, 7, 8, 9, 10, 11, 12, 13, 14, 15, 16, 8, 9, 10, 11, 12, 13, 14, 15, 16, 17, 9, 10, 11, 12, 13, 14, 15, 16, 17, 18, 10, 11, 12, 13, 14, 15, 16, 17, 18, 19, 11, 12, 13, 14, 15, 16, 17, 18, 19, 20, 12, 13, 14, 15, 16, 17, 18, 19, 20, 21, 13, 14, 15, 16, 17, 18, 19, 20, 21, 22, 14, 15, 16, 17, 18, 19, 20, 21, 22, 23, 6, 7, 8, 9, 10, 11, 12, 13, 14, 15, 7, 8, 9, 10, 11, 12, 13, 14, 15, 16, 8, 9, 10, 11, 12, 13, 14, 15, 16, 17, 9, 10, 11, 12, 13, 14, 15, 16, 17, 18, 10, 11, 12, 13, 14, 15, 16, 17, 18, 19, 11, 12, 13, 14, 15, 16, 17, 18, 19, 20, 12, 13, 14, 15, 16, 17, 18, 19, 20, 21, 13, 14, 15, 16, 17, 18, 19, 20, 21, 22, 14, 15, 16, 17, 18, 19, 20, 21, 22, 23, 15, 16, 17, 18, 19, 20, 21, 22, 23, 24, 7, 8, 9, 10, 11, 12, 13, 14, 15, 16, 8, 9, 10, 11, 12, 13, 14, 15, 16, 17, 9, 10, 11, 12, 13, 14, 15, 16, 17, 18, 10, 11, 12, 13, 14, 15, 16, 17, 18, 19, 11, 12, 13, 14, 15, 16, 17, 18, 19, 20, 12, 13, 14, 15, 16, 17, 18, 19, 20, 21, 13, 14, 15, 16, 17, 18, 19, 20, 21, 22, 14, 15, 16, 17, 18, 19, 20, 21, 22, 23, 15, 16, 17, 18, 19, 20, 21, 22, 23, 24, 16, 17, 18, 19, 20, 21, 22, 23, 24, 25, 8, 9, 10, 11, 12, 13, 14, 15, 16, 17, 9, 10, 11, 12, 13, 14, 15, 16, 17, 18, 10, 11, 12, 13, 14, 15, 16, 17, 18, 19, 11, 12, 13, 14, 15, 16, 17, 18, 19, 20, 12, 13, 14, 15, 16, 17, 18, 19, 20, 21, 13, 14, 15, 16, 17, 18, 19, 20, 21, 22, 14, 15, 16, 17, 18, 19, 20, 21, 22, 23, 15, 16, 17, 18, 19, 20, 21, 22, 23, 24, 16, 17, 18, 19, 20, 21, 22, 23, 24, 25, 17, 18, 19, 20, 21, 22, 23, 24, 25, 26, 9, 10, 11, 12, 13, 14, 15, 16, 17, 18, 10, 11, 12, 13, 14, 15, 16, 17, 18, 19, 11, 12, 13, 14, 15, 16, 17, 18, 19, 20, 12, 13, 14, 15, 16, 17, 18, 19, 20, 21, 13, 14, 15, 16, 17, 18, 19, 20, 21, 22, 14, 15, 16, 17, 18, 19, 20, 21, 22, 23, 15, 16, 17, 18, 19, 20, 21, 22, 23, 24, 16, 17, 18, 19, 20, 21, 22, 23, 24, 25, 17, 18, 19, 20, 21, 22, 23, 24, 25, 26, 18, 19, 20, 21, 22, 23, 24, 25, 26, 27, 1]\n"
     ]
    }
   ],
   "source": [
    "#39. Develop a program that calculates the sum of the digits of numbers from 1 to 1000 using list comprehension.\n",
    "\n",
    "list_sum=[sum([int(j) for j in str(i)]) for i in range(1,1001)]\n",
    "print(list_sum)"
   ]
  },
  {
   "cell_type": "code",
   "execution_count": 108,
   "id": "6ad423d4-8e46-4e83-8ed9-b1e334139735",
   "metadata": {},
   "outputs": [
    {
     "data": {
      "text/plain": [
       "[2, 3, 5, 7, 11, 101, 131, 151, 181, 191, 313, 353, 373, 383]"
      ]
     },
     "execution_count": 108,
     "metadata": {},
     "output_type": "execute_result"
    }
   ],
   "source": [
    "#40. Write a program that generates a list of prime palindromic numbers using list comprehension.\n",
    "\n",
    "def primecheck(num):\n",
    "    if num<=1:\n",
    "        return False\n",
    "    else:\n",
    "        for i in range(2,int(num**0.5)+1):\n",
    "            if num%i==0:\n",
    "                return False\n",
    "    return True\n",
    "\n",
    "\n",
    "n = 500\n",
    "list_prime_pallindrome = [i for i in range(1,n) if primecheck(i) if str(i)==str(i)[::-1]]\n",
    "list_prime_pallindrome"
   ]
  }
 ],
 "metadata": {
  "kernelspec": {
   "display_name": "Python 3 (ipykernel)",
   "language": "python",
   "name": "python3"
  },
  "language_info": {
   "codemirror_mode": {
    "name": "ipython",
    "version": 3
   },
   "file_extension": ".py",
   "mimetype": "text/x-python",
   "name": "python",
   "nbconvert_exporter": "python",
   "pygments_lexer": "ipython3",
   "version": "3.10.8"
  }
 },
 "nbformat": 4,
 "nbformat_minor": 5
}
